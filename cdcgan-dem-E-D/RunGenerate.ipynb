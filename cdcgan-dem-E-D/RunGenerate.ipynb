{
 "cells": [
  {
   "cell_type": "code",
   "execution_count": 37,
   "metadata": {},
   "outputs": [
    {
     "name": "stdout",
     "output_type": "stream",
     "text": [
      "Namespace(batchSize=10, cuda=False, dataset='DEM', epoch=200, imageSize=32, logfile='outfile_generate/errlog.txt', manualSeed=None, ncp=100, netG='outfile_randomsample/nets/netG_epoch_200.pth', ngf=64, nthread=1, outf='outfile_generate_loss_rdsampled')\n",
      "Random Seed:  9711\n"
     ]
    },
    {
     "name": "stderr",
     "output_type": "stream",
     "text": [
      "generate_random.py:242: UserWarning: src is not broadcastable to dst, but they have the same number of elements.  Falling back to deprecated pointwise behavior.\n",
      "  \n"
     ]
    },
    {
     "name": "stdout",
     "output_type": "stream",
     "text": [
      "errG: 21944.458984 errK: inf\n"
     ]
    }
   ],
   "source": [
    "%run generate_random.py --netG outfile_randomsample/nets/netG_epoch_200.pth --batchSize 10 --dataset DEM --epoch 200 --outf outfile_generate_loss_rdsampled"
   ]
  },
  {
   "cell_type": "code",
   "execution_count": 41,
   "metadata": {
    "scrolled": true
   },
   "outputs": [
    {
     "name": "stdout",
     "output_type": "stream",
     "text": [
      "Namespace(batchSize=64, cuda=False, dataset='DEM', imageSize=32, logfile='outfile_generate_loss/100samples/errlog.txt', manualSeed=None, ncp=169, netG='outfile_169_samples', ngf=64, nthread=1, outf='outfile_generate_loss/169samples/krige')\n",
      "Random Seed:  8698\n"
     ]
    },
    {
     "name": "stderr",
     "output_type": "stream",
     "text": [
      "generate-krige.py:188: UserWarning: src is not broadcastable to dst, but they have the same number of elements.  Falling back to deprecated pointwise behavior.\n",
      "  dems.data.copy_(images[:,0,:,:])\n"
     ]
    },
    {
     "name": "stdout",
     "output_type": "stream",
     "text": [
      "errG: 5041.582520 errK: 2693.308105\n"
     ]
    }
   ],
   "source": [
    "%run generate-krige.py --batchSize 64 --netG outfile_196_samples --dataset DEM --ncp 100 --outf outfile_generate_loss/100samples/krige\n",
    "# spherical krige!"
   ]
  },
  {
   "cell_type": "code",
   "execution_count": 56,
   "metadata": {},
   "outputs": [
    {
     "name": "stdout",
     "output_type": "stream",
     "text": [
      "Namespace(batchSize=64, cuda=False, dataset='DEM', imageSize=32, logfile='outfile_generate_loss/100samples/errlog.txt', manualSeed=None, ncp=196, netG='outfile_196_samples', ngf=64, nthread=1, outf='outfile_generate_loss/196samples')\n",
      "Random Seed:  8509\n"
     ]
    },
    {
     "name": "stderr",
     "output_type": "stream",
     "text": [
      "generate.py:188: UserWarning: src is not broadcastable to dst, but they have the same number of elements.  Falling back to deprecated pointwise behavior.\n",
      "  dems.data.copy_(images[:,0,:,:])\n"
     ]
    },
    {
     "name": "stdout",
     "output_type": "stream",
     "text": [
      "errG: 61109.449219\n",
      "errG: 20243.550781\n",
      "errG: 16031.204102\n",
      "errG: 10655.325195\n",
      "errG: 9487.104492\n",
      "errG: 8557.285156\n",
      "errG: 7404.676758\n",
      "errG: 6986.303711\n",
      "errG: 6363.453125\n",
      "errG: 6898.721680\n",
      "errG: 5457.583496\n",
      "errG: 5248.651367\n",
      "errG: 4759.104492\n",
      "errG: 5508.448730\n",
      "errG: 4450.053711\n",
      "errG: 3877.517822\n",
      "errG: 4362.942871\n",
      "errG: 4423.416504\n",
      "errG: 3908.099609\n",
      "errG: 3986.946289\n",
      "errG: 4003.690186\n"
     ]
    }
   ],
   "source": [
    "%run generate.py --batchSize 64 --netG outfile_196_samples --dataset DEM --ncp 100 --outf outfile_generate_loss/100samples"
   ]
  }
 ],
 "metadata": {
  "kernelspec": {
   "display_name": "Python 3",
   "language": "python",
   "name": "python3"
  },
  "language_info": {
   "codemirror_mode": {
    "name": "ipython",
    "version": 3
   },
   "file_extension": ".py",
   "mimetype": "text/x-python",
   "name": "python",
   "nbconvert_exporter": "python",
   "pygments_lexer": "ipython3",
   "version": "3.6.3"
  }
 },
 "nbformat": 4,
 "nbformat_minor": 2
}
